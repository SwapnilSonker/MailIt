{
 "cells": [
  {
   "cell_type": "code",
   "execution_count": 4,
   "metadata": {},
   "outputs": [
    {
     "data": {
      "text/plain": [
       "[Document(metadata={'source': 'swapnil_resume.pdf', 'page': 0}, page_content='SWAPNIL SONKER\\n swapnilsonker04@gmail.com /ne+91 6392672691 Lucknow, Uttar Pradesh\\nPROFILE\\nLinkedIn\\nGithub\\nACHIEVEMENTS\\nἼAndroid Development In Kotlin\\nReceived google badges on\\ncompleting the paths to learn android\\ndevelopment from google itself.\\nἼFrontend Development\\nLearnt how to create a frontend of a\\nwebsite and contributed on a side\\nproject to create a website.\\nSKILLS\\nJava, Javascript, Typescript\\nHTML,CSS , React JS\\nData Structure and Algorithm Kotlin\\nSQL , GIT/GITHUB python\\nVs Code IntelliJ Idea Android Studio\\nVolley Glide ViewModel\\nLiveData MVVM, RETROFIT\\nMaterialUI\\nEDUCATION\\nB.TECH CSE\\nBabu Banarsi Das University , lucknow\\nὌ2019 – 2023\\nCGPA 8.8\\nWORKING EXPERIENCE\\nJunior Software Tester\\nBabySoft Software\\nὌJuly 2021 - Aug 2021 Lucknow , Uttar Pradesh\\n• Wrote detailed test scenarios and cases , accurately logging errors\\nand defects in comprehensive test reports.\\n• Conducted interdisciplinary code reviews to access data and identify\\nareas for improvement.\\nAndroid developer\\nAptron Software\\nὌJuly 2022 - Aug 2022 Lucknow , Uttar Pradesh\\n• Got to know about how the framework work and about android\\ncommunity. Served some of my time in reviewing the app and\\nconducting tests.\\n• Conducted interdisciplinary code reviews to access data and identify\\nareas for improvement.\\n• Developed some application and had a great experience of working\\nwith teams exhibiting great minds.\\nFrontEnd developer\\nFarziEngineers\\nὌApril 2023 - present Lucknow , Uttar Pradesh\\n• Contributed to their codebase by developing feature and enhancing\\ntheir frontend by designing and applying those designs with full\\naccuracy\\n• Engineered a whole dashboard from scratch with the help of material\\nUI and javascript and applied the API’s for data reading and updating\\nboth with the query and mutation.\\n• Developed a whole section for a client to select a working pincode\\nfor their area and make the service available.\\nPROJECTS\\nNOTETAKER APP\\nὌJANUARY 2023\\n• Developed a note taking application which enables the user to\\ncreate, edit, delete notes and display it on the user device screen.\\n• used material design and constraint layout, ROOM database is used\\nfor storing information.\\nDISPATCH\\nὌJANUARY 2023 - present\\n• Engineering the app using the MVVM and using a splash screen.\\n• This application will ensure sending of OTP and by using vonage API\\nservice and storing it. This app uses two tabs.')]"
      ]
     },
     "execution_count": 4,
     "metadata": {},
     "output_type": "execute_result"
    }
   ],
   "source": [
    "from langchain_community.document_loaders import PyPDFLoader\n",
    "import os\n",
    "from langchain.embeddings import HuggingFaceEmbeddings\n",
    "from dotenv import load_dotenv\n",
    "load_dotenv()\n",
    "\n",
    "from groq import Groq\n",
    "\n",
    "client = Groq(\n",
    "    api_key=os.environ[\"GROQ_API_KEY\"]\n",
    ")\n",
    "data = PyPDFLoader(\"swapnil_resume.pdf\")\n",
    "dataloader = data.load()\n",
    "dataloader"
   ]
  },
  {
   "cell_type": "code",
   "execution_count": 6,
   "metadata": {},
   "outputs": [
    {
     "name": "stderr",
     "output_type": "stream",
     "text": [
      "c:\\Users\\Project\\GenAi\\EmailScrawl\\scrawl\\lib\\site-packages\\tqdm\\auto.py:21: TqdmWarning: IProgress not found. Please update jupyter and ipywidgets. See https://ipywidgets.readthedocs.io/en/stable/user_install.html\n",
      "  from .autonotebook import tqdm as notebook_tqdm\n"
     ]
    }
   ],
   "source": [
    "from langchain.text_splitter import RecursiveCharacterTextSplitter\n",
    "from langchain_community.embeddings import OllamaEmbeddings\n",
    "# from langchain.embeddings import HuggingFaceEmbeddings\n",
    "from langchain_community.vectorstores import Chroma\n",
    "pdf_split = RecursiveCharacterTextSplitter(chunk_size = 1000, chunk_overlap=200)\n",
    "split = pdf_split.split_documents(dataloader)\n",
    "\n",
    "embeddings = HuggingFaceEmbeddings(\n",
    "    model_name = \"sentence-transformers/all-MiniLM-L6-v2\",\n",
    ")\n",
    "\n",
    "store = Chroma.from_documents(documents=split, embedding=embeddings)\n",
    "retriever = store.as_retriever()\n"
   ]
  },
  {
   "cell_type": "code",
   "execution_count": 8,
   "metadata": {},
   "outputs": [],
   "source": [
    "def formattedPdf(docs):\n",
    "    return \"\\n\\n\".join(doc.page_content for doc in docs)\n",
    "\n",
    "def ollama_llm(question, context):\n",
    "    formatted_prompt = f\"Question: {question}\\n\\nContext: {context}\"\n",
    "    chat_completion = client.chat.completions.create(\n",
    "        messages=[\n",
    "            {\"role\": \"user\", \"content\": formatted_prompt}\n",
    "        ],\n",
    "        model=\"llama-3.2-1b-preview\"  # Replace with the appropriate model name\n",
    "    )\n",
    "    \n",
    "    # Extract the content from Groq's response\n",
    "    response_content = chat_completion.choices[0].message.content\n",
    "    return response_content\n",
    "\n",
    "def rag_chain(question):\n",
    "    retrieved_docs = retriever.invoke(question)\n",
    "    formatted_context = formattedPdf(retrieved_docs)\n",
    "    return ollama_llm(question, formatted_context)\n",
    "\n"
   ]
  },
  {
   "cell_type": "code",
   "execution_count": 9,
   "metadata": {},
   "outputs": [
    {
     "name": "stderr",
     "output_type": "stream",
     "text": [
      "Number of requested results 4 is greater than number of elements in index 3, updating n_results = 3\n"
     ]
    },
    {
     "name": "stdout",
     "output_type": "stream",
     "text": [
      "result Here are the skills of Swapnil in bullet points:\n",
      "\n",
      "**Programming Languages**\n",
      "\n",
      "* Java\n",
      "* Kotlin\n",
      "* JavaScript (React)\n",
      "* HTML\n",
      "* CSS\n",
      "* TypeScript\n",
      "* Python\n",
      "* SQL\n",
      "* GIT/GITHUB\n",
      "\n",
      "**Development Frameworks**\n",
      "\n",
      "* Android Development\n",
      "* Backend Development\n",
      "* Mobile App Development\n",
      "* Full Stack Development\n",
      "\n",
      "**Technology Stack**\n",
      "\n",
      "* Android Studio (IDE)\n",
      "* IntelliJ IDEA (IDE)\n",
      "* VS Code (IDE)\n",
      "* Material Design\n",
      "* Volley\n",
      "* Retrofit\n",
      "\n",
      "**Test Automation**\n",
      "\n",
      "* Android Test Automation\n",
      "* Test Frameworks (e.g. JUnit, TestNG)\n",
      "\n",
      "**Database Administration**\n",
      "\n",
      "* Using Room Database for storing information\n",
      "* Using Vapor (for sending notifications)\n",
      "\n",
      "**Frontend Development**\n",
      "\n",
      "* Material Design UI\n",
      "* Constraint Layout\n",
      "* Room Database for storing information\n",
      "* Designing and applying frontend designs full accuracy\n",
      "* contributed to their codebase by developing features and enhancing the frontend\n",
      "\n",
      "**Communication**\n",
      "Personal Details: \n",
      "Address: Lucknow, Uttar Pradesh\n",
      "Phone Number: 6392672691\n",
      "Email: swapnilsonker04@gmail.com\n",
      "\n",
      "Professional Details: \n",
      "LinkedIn: \n",
      "Github:\n"
     ]
    }
   ],
   "source": [
    "result = rag_chain(\"skills of swapnil in bullet points?\")\n",
    "print(\"result\" , result)"
   ]
  },
  {
   "cell_type": "code",
   "execution_count": 27,
   "metadata": {},
   "outputs": [
    {
     "name": "stdout",
     "output_type": "stream",
     "text": [
      "Fast language models have become increasingly important in various fields due to their ability to process and understand text in a much faster manner than traditional models. Here are some key reasons why fast language models are crucial:\n",
      "\n",
      "1. **Real-time Applications**: Fast language models are ideal for real-time applications where data needs to be processed quickly and efficiently, such as in:\n",
      "\t* Chatbots that interact with users in real-time.\n",
      "\t* Virtual assistants that provide instant responses.\n",
      "\t* Data analysis in search engines that provide quick results.\n",
      "2. **High Traffic Websites**: Fast language models enable high-traffic websites to handle a large volume of visitors, reducing wait times and increasing user experience.\n",
      "3. **Emergency Services**: Fast language models are essential in emergency services, such as 911 calls, where rapid processing is critical to rescuing individuals in distress.\n",
      "4. **Security and Identity Verification**: Fast language models are being explored for security and identity verification applications, such as:\n",
      "\t* Image recognition and facial recognition systems.\n",
      "\t* Biometric authentication.\n",
      "5. **Automated Customer Support**: Fast language models enable companies to provide 24/7 customer support, improving customer satisfaction and reducing support ticket times.\n",
      "6. **Enhanced Search Results**: Fast language models can quickly process and analyze large amounts of text data, resulting in:\n",
      "\t* Improved search results.\n",
      "\t* Reduced latency in search engine results.\n",
      "7. **NLP Applications**: Fast language models are increasingly being used in Natural Language Processing (NLP) applications, such as:\n",
      "\t* Sentiment analysis.\n",
      "\t* Text classification.\n",
      "\t* Sentiment prediction.\n",
      "8. **Improved Human-Machine Interaction**: Fast language models can analyze and respond to user input in real-time, enabling more intuitive and user-friendly interactions.\n",
      "9. **Data Analysis and Intelligence**: Fast language models can quickly analyze vast amounts of data, providing valuable insights and strategic advantages.\n",
      "10. **Scalability and Durability**: Fast language models are designed to be scalable and durable, ensuring they can handle a large volume of data production without compromising performance.\n",
      "\n",
      "To create fast language models, researchers and developers employ various techniques, such as:\n",
      "\n",
      "1. **Neural network architectures**: Incorporating neural networks, like Transformer and BERT, to process and understand text.\n",
      "2. **Parallel processing**: Utilizing parallel processing techniques to speed up the processing of data.\n",
      "3. **Specialized hardware**: Employing specialized hardware, like graphics processing units (GPUs) and tensor processing units (TPUs), to accelerate processing.\n",
      "4. **Optimized algorithms**: Using optimized algorithms, such as iterative deep network (IDN) and time delay integration (TDI), to reduce processing time.\n",
      "5. **Regularization techniques**: Applying regularization techniques, like dropout and weight decay, to prevent overfitting and improve model stability.\n",
      "\n",
      "By harnessing the power of fast language models, developers can create more efficient, effective, and user-friendly systems that transform the way we interact with technology.\n"
     ]
    }
   ],
   "source": [
    "import os\n",
    "from groq import Groq\n",
    "\n",
    "client = Groq(\n",
    "    api_key=os.environ[\"GROQ_API_KEY\"]\n",
    ")\n",
    "\n",
    "chat_completion = client.chat.completions.create(\n",
    "    messages=[\n",
    "        {\n",
    "            \"role\": \"user\",\n",
    "            \"content\": \"Explain the importance of fast language models\"\n",
    "        }\n",
    "    ],\n",
    "    model = \"llama-3.2-1b-preview\"\n",
    ")\n",
    "\n",
    "print(chat_completion.choices[0].message.content)"
   ]
  },
  {
   "cell_type": "code",
   "execution_count": null,
   "metadata": {},
   "outputs": [],
   "source": [
    "\n"
   ]
  }
 ],
 "metadata": {
  "kernelspec": {
   "display_name": "scrawl",
   "language": "python",
   "name": "python3"
  },
  "language_info": {
   "codemirror_mode": {
    "name": "ipython",
    "version": 3
   },
   "file_extension": ".py",
   "mimetype": "text/x-python",
   "name": "python",
   "nbconvert_exporter": "python",
   "pygments_lexer": "ipython3",
   "version": "3.9.13"
  }
 },
 "nbformat": 4,
 "nbformat_minor": 2
}
